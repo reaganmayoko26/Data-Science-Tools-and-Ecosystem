{
 "cells": [
  {
   "cell_type": "markdown",
   "id": "70955045",
   "metadata": {},
   "source": [
    "# Data Science Tools and Ecosystem"
   ]
  },
  {
   "cell_type": "markdown",
   "id": "414ee15b",
   "metadata": {},
   "source": [
    "In this notebook, we will explore and summarize the various tools and ecosystem available to data scientists, including popular programming languages, software libraries, frameworks, and data storage options. Whether you are just starting out in data science or looking to enhance your skills, this notebook aims to serve as a helpful resource in navigating the vast landscape of data science tools and technologies."
   ]
  },
  {
   "cell_type": "markdown",
   "id": "0b620c10",
   "metadata": {},
   "source": [
    "Some of the popular languages that Data Scientists use are:\n",
    "\n",
    "1. Python\n",
    "2. R\n",
    "3. SQL\n",
    "\n",
    "Python is a versatile language frequently used in data cleaning, exploration, pre-processing and modeling. R is another popular language that also focuses on data exploration and data visualization. SQL is a language that is used to manage, manipulate and query databases. These three are the most commonly used programming languages in Data Science."
   ]
  },
  {
   "cell_type": "markdown",
   "id": "dbe07f78",
   "metadata": {},
   "source": [
    "Some of the commonly used libraries used by Data Scientists include:\n",
    "\n",
    "- Pandas\n",
    "- Scikit-Learn\n",
    "- NumPy\n",
    "\n",
    "Pandas is a library used for data manipulation and analysis. With Pandas, you can easily import and export data from different formats and sources such as CSV, TSV, Excel, SQL databases, and more. It provides datastructures such as dataframes and series.\n",
    "\n",
    "Scikit-Learn is a library used for machine learning in Python. It provides a variety of simple and efficient machine learning algorithms and tools for data mining and data analysis.\n",
    "\n",
    "NumPy is a library used for scientific computing in Python. It provides N-dimensional array objects which are more efficient than Python's built-in lists and arrays for performing mathematical operations on large datasets."
   ]
  },
  {
   "cell_type": "markdown",
   "id": "597dbdc6",
   "metadata": {},
   "source": [
    "# Data Science Tools"
   ]
  },
  {
   "cell_type": "markdown",
   "id": "dcd0b6bb",
   "metadata": {},
   "source": [
    "- Jupyter Notebook\n",
    "- RStudio\n",
    "- Spyder\n",
    "\n",
    "In the table above, the header \"Data Science Tools\" is in the first row and is centered. The subsequent three rows list open source tools used in data science: Jupyter Notebook, RStudio, and Spyder."
   ]
  },
  {
   "cell_type": "markdown",
   "id": "05b8931e",
   "metadata": {},
   "source": [
    "# Examples of Evaluating Arithmetic Expressions in Python"
   ]
  },
  {
   "cell_type": "markdown",
   "id": "fd329180",
   "metadata": {},
   "source": [
    "In Python, arithmetic expressions can be evaluated using mathematical operators such as addition (+), subtraction (-), multiplication (*), division (/), and modulo (%). Below are some examples of evaluating arithmetic expressions in Python:\n",
    "\n",
    "- Addition:"
   ]
  },
  {
   "cell_type": "code",
   "execution_count": 1,
   "id": "b14f6541",
   "metadata": {},
   "outputs": [
    {
     "name": "stdout",
     "output_type": "stream",
     "text": [
      "8\n"
     ]
    }
   ],
   "source": [
    "x = 5\n",
    "y = 3\n",
    "result = x + y\n",
    "print(result)"
   ]
  },
  {
   "cell_type": "markdown",
   "id": "98eac786",
   "metadata": {},
   "source": [
    "- Subtraction:"
   ]
  },
  {
   "cell_type": "code",
   "execution_count": 2,
   "id": "1173d422",
   "metadata": {},
   "outputs": [
    {
     "name": "stdout",
     "output_type": "stream",
     "text": [
      "3\n"
     ]
    }
   ],
   "source": [
    "a = 10\n",
    "b = 7\n",
    "result = a - b\n",
    "print(result)"
   ]
  },
  {
   "cell_type": "markdown",
   "id": "17e294b7",
   "metadata": {},
   "source": [
    "- Multiplication:"
   ]
  },
  {
   "cell_type": "code",
   "execution_count": 3,
   "id": "0766f708",
   "metadata": {},
   "outputs": [
    {
     "name": "stdout",
     "output_type": "stream",
     "text": [
      "15\n"
     ]
    }
   ],
   "source": [
    "m = 3\n",
    "n = 5\n",
    "result = m * n\n",
    "print(result)"
   ]
  },
  {
   "cell_type": "markdown",
   "id": "20799584",
   "metadata": {},
   "source": [
    "- Division:"
   ]
  },
  {
   "cell_type": "code",
   "execution_count": 4,
   "id": "311d255f",
   "metadata": {},
   "outputs": [
    {
     "name": "stdout",
     "output_type": "stream",
     "text": [
      "4.0\n"
     ]
    }
   ],
   "source": [
    "p = 20\n",
    "q = 5\n",
    "result = p / q\n",
    "print(result)"
   ]
  },
  {
   "cell_type": "markdown",
   "id": "855c3f74",
   "metadata": {},
   "source": [
    "Modulo:"
   ]
  },
  {
   "cell_type": "code",
   "execution_count": 5,
   "id": "4b3fcf14",
   "metadata": {},
   "outputs": [
    {
     "name": "stdout",
     "output_type": "stream",
     "text": [
      "1\n"
     ]
    }
   ],
   "source": [
    "r = 10\n",
    "s = 3\n",
    "result = r % s\n",
    "print(result)"
   ]
  },
  {
   "cell_type": "code",
   "execution_count": 6,
   "id": "6ab7b64b",
   "metadata": {},
   "outputs": [
    {
     "data": {
      "text/plain": [
       "17"
      ]
     },
     "execution_count": 6,
     "metadata": {},
     "output_type": "execute_result"
    }
   ],
   "source": [
    "# This is a simple arithmetic expression to multiply 3 and 4, then add 5\n",
    "(3 * 4) + 5"
   ]
  },
  {
   "cell_type": "code",
   "execution_count": 7,
   "id": "47002967",
   "metadata": {},
   "outputs": [
    {
     "name": "stdout",
     "output_type": "stream",
     "text": [
      "3.3333333333333335\n"
     ]
    }
   ],
   "source": [
    "# This will convert 200 minutes to hours by dividing by 60.\n",
    "hours = 200 / 60\n",
    "print(hours)"
   ]
  },
  {
   "cell_type": "markdown",
   "id": "6e952c91",
   "metadata": {},
   "source": [
    "When you run this cell, it will output the result of the expression, which is 3.3333333333333335. This means that 200 minutes is equivalent to 3.33 hours (rounded to two decimal places)."
   ]
  },
  {
   "cell_type": "markdown",
   "id": "a08e72a5",
   "metadata": {},
   "source": [
    "# Objectives:"
   ]
  },
  {
   "cell_type": "markdown",
   "id": "57faad29",
   "metadata": {},
   "source": [
    "- List popular languages for Data Science\n",
    "- Understand the Data Science workflow: Data collection, Data cleaning, Data exploration, Data visualization, and Data modelling\n",
    "- Perform basic data manipulation using Pandas library\n",
    "- Use Seaborn library for data visualization\n",
    "- Understand the basic concepts of Machine Learning and its types\n",
    "- Train and evaluate a Classification model using Scikit-Learn library"
   ]
  },
  {
   "cell_type": "markdown",
   "id": "689aae30",
   "metadata": {},
   "source": [
    "# Author"
   ]
  },
  {
   "cell_type": "markdown",
   "id": "ee23ef06",
   "metadata": {},
   "source": [
    "Reagan Mayoko, as Data Scientist"
   ]
  },
  {
   "cell_type": "code",
   "execution_count": null,
   "id": "9f9bc0ce",
   "metadata": {},
   "outputs": [],
   "source": []
  }
 ],
 "metadata": {
  "kernelspec": {
   "display_name": "Python 3 (ipykernel)",
   "language": "python",
   "name": "python3"
  },
  "language_info": {
   "codemirror_mode": {
    "name": "ipython",
    "version": 3
   },
   "file_extension": ".py",
   "mimetype": "text/x-python",
   "name": "python",
   "nbconvert_exporter": "python",
   "pygments_lexer": "ipython3",
   "version": "3.11.5"
  }
 },
 "nbformat": 4,
 "nbformat_minor": 5
}
